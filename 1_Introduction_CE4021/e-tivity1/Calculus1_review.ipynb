{
 "cells": [
  {
   "cell_type": "markdown",
   "metadata": {},
   "source": [
    "# Notebook E-tivity 1 CE4021"
   ]
  },
  {
   "cell_type": "markdown",
   "metadata": {},
   "source": [
    "**Student name:** Guillermo Alcantara Gonzalez"
   ]
  },
  {
   "cell_type": "markdown",
   "metadata": {},
   "source": [
    "**Student ID:** 23123982"
   ]
  },
  {
   "cell_type": "markdown",
   "metadata": {},
   "source": [
    "<hr style=\"border:2px solid gray\"> </hr>"
   ]
  },
  {
   "cell_type": "markdown",
   "source": [
    "# 1: Derivatives"
   ],
   "metadata": {
    "collapsed": false
   }
  },
  {
   "cell_type": "markdown",
   "metadata": {},
   "source": [
    "## Imports"
   ]
  },
  {
   "cell_type": "code",
   "execution_count": 1,
   "metadata": {
    "ExecuteTime": {
     "end_time": "2023-10-25T14:21:10.173238Z",
     "start_time": "2023-10-25T14:21:09.981926100Z"
    }
   },
   "outputs": [],
   "source": [
    "from CE4021.Calculus import (\n",
    "    derive_poly,\n",
    "    evaluate_polynomial,\n",
    "    integral,\n",
    "    riemann_integral_approximation\n",
    ")"
   ]
  },
  {
   "cell_type": "markdown",
   "source": [
    "## derive_poly"
   ],
   "metadata": {
    "collapsed": false
   }
  },
  {
   "cell_type": "markdown",
   "source": [
    "### Use example:\n",
    "Let's calculate the derivative\n",
    "$$ 12 + 13x + 14x^2 dx $$\n",
    "\n",
    "We represent the polynomial as a list of coefficients, in increasing order of powers:\n",
    "$$ [12, 13, 14] $$\n",
    "\n",
    "We call the function with the polynomial and the increasing flag set to True (because the polynomial is in increasing order of powers):"
   ],
   "metadata": {
    "collapsed": false
   }
  },
  {
   "cell_type": "markdown",
   "source": [
    "The result is the derivative of the polynomial, also represented as a list of coefficients:"
   ],
   "metadata": {
    "collapsed": false
   }
  },
  {
   "cell_type": "markdown",
   "source": [
    "Let's calculate the derivative of the same polynomial, but this time represented in decreasing order of powers:\n",
    "$$ 12x^2 + 13x + 14 dx $$"
   ],
   "metadata": {
    "collapsed": false
   }
  },
  {
   "cell_type": "code",
   "execution_count": 2,
   "outputs": [
    {
     "data": {
      "text/plain": "[24, 13]"
     },
     "execution_count": 2,
     "metadata": {},
     "output_type": "execute_result"
    }
   ],
   "source": [
    "derive_poly(poly = [12, 13, 14])  # 12x^2 + 13x + 14 dx = 24x + 13"
   ],
   "metadata": {
    "collapsed": false,
    "ExecuteTime": {
     "end_time": "2023-10-25T14:20:13.206641500Z",
     "start_time": "2023-10-25T14:20:13.065555Z"
    }
   }
  },
  {
   "cell_type": "markdown",
   "source": [
    "if we wanted to have the list of polynomials in increasing order we can also do it as:"
   ],
   "metadata": {
    "collapsed": false
   }
  },
  {
   "cell_type": "code",
   "execution_count": 3,
   "outputs": [
    {
     "data": {
      "text/plain": "[13, 24]"
     },
     "execution_count": 3,
     "metadata": {},
     "output_type": "execute_result"
    }
   ],
   "source": [
    "derive_poly(poly = [13, 13, 12], increasing=True)  # 12x^2 + 13x + 14 dx = 24x + 13"
   ],
   "metadata": {
    "collapsed": false,
    "ExecuteTime": {
     "end_time": "2023-10-25T14:20:13.206641500Z",
     "start_time": "2023-10-25T14:20:13.081189900Z"
    }
   }
  },
  {
   "cell_type": "markdown",
   "source": [
    "Now let's se how the `increasing` parameter\n",
    "\n",
    "$$ x + 2x^2 dx = 1 + 4x $$"
   ],
   "metadata": {
    "collapsed": false
   }
  },
  {
   "cell_type": "markdown",
   "source": [
    "We can try with different polynomials in both increasing and decreasing orders:"
   ],
   "metadata": {
    "collapsed": false
   }
  },
  {
   "cell_type": "code",
   "execution_count": 4,
   "outputs": [
    {
     "data": {
      "text/plain": "[1, 4]"
     },
     "execution_count": 4,
     "metadata": {},
     "output_type": "execute_result"
    }
   ],
   "source": [
    "derive_poly([0, 1, 2], increasing=True)  # 0 + x + 2x^2. dx = 1 + 4x"
   ],
   "metadata": {
    "collapsed": false,
    "ExecuteTime": {
     "end_time": "2023-10-25T14:20:13.206641500Z",
     "start_time": "2023-10-25T14:20:13.096820500Z"
    }
   }
  },
  {
   "cell_type": "markdown",
   "source": [
    " Here we run get the  same result as above but reversed."
   ],
   "metadata": {
    "collapsed": false
   }
  },
  {
   "cell_type": "code",
   "execution_count": 5,
   "outputs": [
    {
     "data": {
      "text/plain": "[4, 1]"
     },
     "execution_count": 5,
     "metadata": {},
     "output_type": "execute_result"
    }
   ],
   "source": [
    "poly = [2, 1, 0]\n",
    "result = derive_poly(poly, False)  # 2x^2 + 1x + 0 dx = 4x + 1\n",
    "# asserts the function output is correct, fails otherwise\n",
    "assert result == [4, 1], \"incorrect derivation\"  \n",
    "result"
   ],
   "metadata": {
    "collapsed": false,
    "ExecuteTime": {
     "end_time": "2023-10-25T14:20:13.206641500Z",
     "start_time": "2023-10-25T14:20:13.112450400Z"
    }
   }
  },
  {
   "cell_type": "markdown",
   "source": [
    "### Extensive testings"
   ],
   "metadata": {
    "collapsed": false
   }
  },
  {
   "cell_type": "markdown",
   "source": [
    "**Test 1: Derivative of a Constant**\n",
    "Constants have a derivative of zero. "
   ],
   "metadata": {
    "collapsed": false
   }
  },
  {
   "cell_type": "code",
   "execution_count": 6,
   "outputs": [
    {
     "name": "stdout",
     "output_type": "stream",
     "text": [
      "Derivative of poly: []\n"
     ]
    }
   ],
   "source": [
    "# Derivative of 7 = 0\n",
    "poly = [7]\n",
    "result = derive_poly(poly)\n",
    "print(\"Derivative of poly:\", result)\n",
    "assert result == [], \"incorrect derivation\"  # Expected output []"
   ],
   "metadata": {
    "collapsed": false,
    "ExecuteTime": {
     "end_time": "2023-10-25T14:20:13.238293300Z",
     "start_time": "2023-10-25T14:20:13.128069700Z"
    }
   }
  },
  {
   "cell_type": "markdown",
   "source": [
    "**Test 2: Linear Function**\n",
    "For a linear function \\( ax + b \\), the derivative is \\( a \\)."
   ],
   "metadata": {
    "collapsed": false
   }
  },
  {
   "cell_type": "code",
   "execution_count": 7,
   "outputs": [
    {
     "name": "stdout",
     "output_type": "stream",
     "text": [
      "Derivative of poly: [3]\n"
     ]
    }
   ],
   "source": [
    "# Derivative of 3x + 4 = 3\n",
    "poly = [3, 4]\n",
    "result = derive_poly(poly, increasing=False)\n",
    "print(\"Derivative of poly:\", result)\n",
    "assert result == [3], \"incorrect derivation\"  # Expected output [3]"
   ],
   "metadata": {
    "collapsed": false,
    "ExecuteTime": {
     "end_time": "2023-10-25T14:20:13.238293300Z",
     "start_time": "2023-10-25T14:20:13.144122400Z"
    }
   }
  },
  {
   "cell_type": "markdown",
   "source": [
    "**Test 3: Quadratic Function**\n",
    "A quadratic function \\( ax^2 + bx + c \\) will have a linear derivative.\n",
    "\n",
    "$$\n",
    "ax^2+bx+c\n",
    "$$\n",
    "\n",
    "will have a linear derivative.\n",
    "\n",
    "$$\n",
    "2ax+b\n",
    "$$"
   ],
   "metadata": {
    "collapsed": false
   }
  },
  {
   "cell_type": "code",
   "execution_count": 8,
   "outputs": [
    {
     "name": "stdout",
     "output_type": "stream",
     "text": [
      "Derivative of poly: [4, 4]\n"
     ]
    }
   ],
   "source": [
    "# Derivative of 2x^2 + 4x + 1 = 4x + 4\n",
    "poly = [1, 4, 2]\n",
    "result = derive_poly(poly, True)\n",
    "print(\"Derivative of poly:\", result)\n",
    "assert result == [4, 4], \"incorrect derivation\"  # Expected output [4, 4]"
   ],
   "metadata": {
    "collapsed": false,
    "ExecuteTime": {
     "end_time": "2023-10-25T14:20:13.238293300Z",
     "start_time": "2023-10-25T14:20:13.159765600Z"
    }
   }
  },
  {
   "cell_type": "markdown",
   "source": [
    "**Test 4: Cubic Function**\n",
    "For a cubic function \\( ax^3 + bx^2 + cx + d \\), the derivative will be quadratic."
   ],
   "metadata": {
    "collapsed": false
   }
  },
  {
   "cell_type": "code",
   "execution_count": 9,
   "outputs": [
    {
     "name": "stdout",
     "output_type": "stream",
     "text": [
      "Derivative of poly: [3, 4, 3]\n"
     ]
    }
   ],
   "source": [
    "# Derivative of 4 + 3x + 2x^2 + x^3 = 3 + 4x + 3x^2\n",
    "poly = [4, 3, 2, 1]\n",
    "result = derive_poly(poly, increasing=True)\n",
    "print(\"Derivative of poly:\", result)\n",
    "assert result == [3, 4, 3], \"incorrect derivation\"  # Expected output [3, 4, 3]"
   ],
   "metadata": {
    "collapsed": false,
    "ExecuteTime": {
     "end_time": "2023-10-25T14:20:13.238293300Z",
     "start_time": "2023-10-25T14:20:13.175385Z"
    }
   }
  },
  {
   "cell_type": "markdown",
   "source": [
    "**Test 5: Derivative with Zero Coefficients**\n",
    "For \\( x^3 + 0x^2 + 2x + 3 \\), zero coefficients should be correctly handled."
   ],
   "metadata": {
    "collapsed": false
   }
  },
  {
   "cell_type": "code",
   "execution_count": 10,
   "outputs": [
    {
     "name": "stdout",
     "output_type": "stream",
     "text": [
      "Derivative of poly: [2, 0, 3]\n"
     ]
    }
   ],
   "source": [
    "# Derivative of x^3 + 0x^2 + 2x + 3 = 2 + 0x + 3x^2\n",
    "poly = [3, 2, 0, 1]\n",
    "result = derive_poly(poly, increasing=True)\n",
    "print(\"Derivative of poly:\", result)\n",
    "assert result == [2, 0, 3], \"incorrect derivation\"  # Expected output [2, 0, 3]"
   ],
   "metadata": {
    "collapsed": false,
    "ExecuteTime": {
     "end_time": "2023-10-25T14:20:13.238293300Z",
     "start_time": "2023-10-25T14:20:13.191019200Z"
    }
   }
  },
  {
   "cell_type": "markdown",
   "source": [
    "These test cases can help us ensure that the `derive_poly` function is working correctly across different types of polynomials."
   ],
   "metadata": {
    "collapsed": false
   }
  },
  {
   "cell_type": "markdown",
   "source": [
    "---"
   ],
   "metadata": {
    "collapsed": false
   }
  },
  {
   "cell_type": "markdown",
   "source": [
    "## evaluate_polynomial"
   ],
   "metadata": {
    "collapsed": false
   }
  },
  {
   "cell_type": "markdown",
   "source": [
    "We can create a set of test cases to validate the behavior of `evaluate_polynomial` function. Below are some tests to cover different scenarios."
   ],
   "metadata": {
    "collapsed": false
   }
  },
  {
   "cell_type": "code",
   "execution_count": 11,
   "outputs": [
    {
     "name": "stdout",
     "output_type": "stream",
     "text": [
      "The result of evaluating the polynomial at x = 4.0 is 31.0\n"
     ]
    }
   ],
   "source": [
    "# Example usage:\n",
    "coefficients = (2, -1, 3)  # Represents the polynomial 2x^2 - x + 3\n",
    "x_value = 4.0\n",
    "result = evaluate_polynomial(x_value, *coefficients)\n",
    "print(f\"The result of evaluating the polynomial at x = {x_value} is {result}\")"
   ],
   "metadata": {
    "collapsed": false,
    "ExecuteTime": {
     "end_time": "2023-10-25T14:20:13.269558800Z",
     "start_time": "2023-10-25T14:20:13.206641500Z"
    }
   }
  },
  {
   "cell_type": "markdown",
   "source": [
    "#### Example usage:\n",
    "Let's evaluate the polynomial\n",
    "$$ 12 + 13x + 14x^2 $$\n",
    "at the value\n",
    "$$ x = 4 $$"
   ],
   "metadata": {
    "collapsed": false
   }
  },
  {
   "cell_type": "code",
   "execution_count": 12,
   "outputs": [
    {
     "name": "stdout",
     "output_type": "stream",
     "text": [
      "The result of evaluating the polynomial at x = 4.0 is 288.0\n"
     ]
    }
   ],
   "source": [
    "coefficients = (14, 13, 12)\n",
    "x_value = 4.0\n",
    "\n",
    "result = evaluate_polynomial(x_value, *coefficients)\n",
    "print(f\"The result of evaluating the polynomial at x = {x_value} is {result}\")"
   ],
   "metadata": {
    "collapsed": false,
    "ExecuteTime": {
     "end_time": "2023-10-25T14:20:13.589000700Z",
     "start_time": "2023-10-25T14:20:13.222267500Z"
    }
   }
  },
  {
   "cell_type": "markdown",
   "source": [
    "The result is the value of the polynomial at the given value of x:\n",
    "\n",
    "$$ 12 + 13x + 14x^2 = 12 + 13*4 + 14*4^2 = 12 + 52 + 224 = 288 $$"
   ],
   "metadata": {
    "collapsed": false
   }
  },
  {
   "cell_type": "markdown",
   "source": [
    "**Test 1: Evaluating a Constant Polynomial**"
   ],
   "metadata": {
    "collapsed": false
   }
  },
  {
   "cell_type": "markdown",
   "source": [
    "Let's run an example with a polynomial of degree 0:\n",
    "$$ 12 $$\n",
    "\n",
    "The result is the value of the polynomial at the given value of x:\n",
    "\n",
    "$$ 12 = 12 $$"
   ],
   "metadata": {
    "collapsed": false
   }
  },
  {
   "cell_type": "code",
   "execution_count": 13,
   "outputs": [
    {
     "name": "stdout",
     "output_type": "stream",
     "text": [
      "The result of evaluating the polynomial at x = 4.0 is 12.0\n"
     ]
    }
   ],
   "source": [
    "coefficients = (12,)\n",
    "x_value = 4.0\n",
    "\n",
    "result = evaluate_polynomial(x_value, *coefficients)\n",
    "print(f\"The result of evaluating the polynomial at x = {x_value} is {result}\")"
   ],
   "metadata": {
    "collapsed": false,
    "ExecuteTime": {
     "end_time": "2023-10-25T14:20:13.604613Z",
     "start_time": "2023-10-25T14:20:13.238293300Z"
    }
   }
  },
  {
   "cell_type": "markdown",
   "source": [
    "For a constant polynomial like \\( f(x) = 7 \\), the function should return 7 for any value of \\( x \\)."
   ],
   "metadata": {
    "collapsed": false
   }
  },
  {
   "cell_type": "code",
   "execution_count": 14,
   "outputs": [
    {
     "name": "stdout",
     "output_type": "stream",
     "text": [
      "The result of evaluating the polynomial at x = 2.0 is 7.0\n"
     ]
    }
   ],
   "source": [
    "coefficients = (7,)\n",
    "x = 2.0\n",
    "result = evaluate_polynomial(x, *coefficients)\n",
    "print(f\"The result of evaluating the polynomial at x = {x} is {result}\")\n",
    "assert result == 7, \"incorrect evaluation\"  # 7"
   ],
   "metadata": {
    "collapsed": false,
    "ExecuteTime": {
     "end_time": "2023-10-25T14:20:13.620224500Z",
     "start_time": "2023-10-25T14:20:13.253933900Z"
    }
   }
  },
  {
   "cell_type": "markdown",
   "source": [
    "**Test 2: Evaluating a Linear Polynomial**\n",
    "Test a linear polynomial like \\( f(x=30) = 4x + 4x= 123  \\)."
   ],
   "metadata": {
    "collapsed": false
   }
  },
  {
   "cell_type": "code",
   "execution_count": 15,
   "outputs": [
    {
     "name": "stdout",
     "output_type": "stream",
     "text": [
      "The result of evaluating the polynomial at x = 30.0 is 123.0\n"
     ]
    }
   ],
   "source": [
    "coefficients = (4, 3)  # 4(x) + 3\n",
    "x = 30.0\n",
    "result = evaluate_polynomial(x, *coefficients)\n",
    "print(f\"The result of evaluating the polynomial at x = {x} is {result}\")\n",
    "assert result == 123, \"incorrect evaluation\"  # 4(30) + 3 = 123 "
   ],
   "metadata": {
    "collapsed": false,
    "ExecuteTime": {
     "end_time": "2023-10-25T14:20:13.620224500Z",
     "start_time": "2023-10-25T14:20:13.269558800Z"
    }
   }
  },
  {
   "cell_type": "markdown",
   "source": [
    "**Test 3: Evaluating a Quadratic Polynomial with Zero Coefficients**\n",
    "Test a quadratic polynomial like \\( f(x=2) = 4x^2 + 3x + 1 = 17 \\).\n",
    "Polynomials may contain terms with zero coefficients, which should be handled correctly."
   ],
   "metadata": {
    "collapsed": false
   }
  },
  {
   "cell_type": "code",
   "execution_count": 16,
   "outputs": [
    {
     "name": "stdout",
     "output_type": "stream",
     "text": [
      "The result of evaluating the polynomial at x = 2.0 is 17.0\n"
     ]
    }
   ],
   "source": [
    "coefficients = (4, 0, 1)  # 4x^2 + 1\n",
    "x_value = 2.0\n",
    "result = evaluate_polynomial(x_value, *coefficients)\n",
    "print(f\"The result of evaluating the polynomial at x = {x_value} is {result}\")\n",
    "assert result == 17, \"incorrect evaluation\"  # 4(2)^2 + 1 = 17"
   ],
   "metadata": {
    "collapsed": false,
    "ExecuteTime": {
     "end_time": "2023-10-25T14:20:13.620224500Z",
     "start_time": "2023-10-25T14:20:13.285206900Z"
    }
   }
  },
  {
   "cell_type": "markdown",
   "source": [
    "**Test 4: Evaluating a beyond cubic Polynomial**\n",
    "For a cubic polynomial like \\( f(x) = x^4 - 3x^3 - 2x^2 + 1x + 0 \\)."
   ],
   "metadata": {
    "collapsed": false
   }
  },
  {
   "cell_type": "code",
   "execution_count": 17,
   "outputs": [
    {
     "name": "stdout",
     "output_type": "stream",
     "text": [
      "The result of evaluating the polynomial at x = 3.0 is 21.0\n"
     ]
    }
   ],
   "source": [
    "coefficients = (1, -3, 2, 1, 0)\n",
    "x = 3.0\n",
    "result = evaluate_polynomial(x, *coefficients)\n",
    "print(f\"The result of evaluating the polynomial at x = {x} is {result}\")\n",
    "assert result == 21, \"incorrect evaluation\"  # 1(x)^4 - 3(x)^3 + 2(x)^2 + 1(x) + 0 = 21"
   ],
   "metadata": {
    "collapsed": false,
    "ExecuteTime": {
     "end_time": "2023-10-25T14:20:13.620224500Z",
     "start_time": "2023-10-25T14:20:13.300807Z"
    }
   }
  },
  {
   "cell_type": "code",
   "execution_count": 18,
   "outputs": [
    {
     "name": "stdout",
     "output_type": "stream",
     "text": [
      "The result of evaluating the polynomial at x = 5.0 is 3905.0\n"
     ]
    }
   ],
   "source": [
    "coefficients = (1, 1, 1, 1, 1, 0)\n",
    "x = 5.0\n",
    "result = evaluate_polynomial(x, *coefficients)\n",
    "print(f\"The result of evaluating the polynomial at x = {x} is {result}\")\n",
    "assert result == 3905, \"incorrect evaluation\"  # x^5 + x^4 + x^3 + x^2 + x = 3905"
   ],
   "metadata": {
    "collapsed": false,
    "ExecuteTime": {
     "end_time": "2023-10-25T14:20:13.620224500Z",
     "start_time": "2023-10-25T14:20:13.316451800Z"
    }
   }
  },
  {
   "cell_type": "markdown",
   "source": [
    "**Test 5: Evaluating mixed cases**"
   ],
   "metadata": {
    "collapsed": false
   }
  },
  {
   "cell_type": "code",
   "execution_count": 19,
   "outputs": [
    {
     "name": "stdout",
     "output_type": "stream",
     "text": [
      "The result of evaluating the polynomial at x = 10.0 is -5537190.0\n"
     ]
    }
   ],
   "source": [
    "coefficients = (0, -6, 5, -4, 3, -2, 1, 0)\n",
    "x = 10.0\n",
    "result = evaluate_polynomial(x, *coefficients)\n",
    "print(f\"The result of evaluating the polynomial at x = {x} is {result}\")\n",
    "assert result == -5537190, \"incorrect evaluation\"  # 0x^7 - 6x^6 + 5x^5 - 4x^4 + 3x^3 - 2x^2 + x + 0 = -5537190"
   ],
   "metadata": {
    "collapsed": false,
    "ExecuteTime": {
     "end_time": "2023-10-25T14:20:13.620224500Z",
     "start_time": "2023-10-25T14:20:13.335068900Z"
    }
   }
  },
  {
   "cell_type": "markdown",
   "source": [
    "These test cases should help validate that the `evaluate_polynomial` function works correctly across different types of polynomials and input values."
   ],
   "metadata": {
    "collapsed": false
   }
  },
  {
   "cell_type": "markdown",
   "source": [
    "---"
   ],
   "metadata": {
    "collapsed": false
   }
  },
  {
   "cell_type": "markdown",
   "source": [
    "# 2: Integral"
   ],
   "metadata": {
    "collapsed": false
   }
  },
  {
   "cell_type": "markdown",
   "source": [
    "## Symbolical integration with substitution\n",
    "Below are some test cases that cover a variety of scenarios for the numerical integration function `integral`."
   ],
   "metadata": {
    "collapsed": false
   }
  },
  {
   "cell_type": "markdown",
   "source": [
    "**Test 1: Constant Polynomial**\n",
    "This is to test the simplest case, where the polynomial is a constant term like $$ f(x) = 7 $$"
   ],
   "metadata": {
    "collapsed": false
   }
  },
  {
   "cell_type": "code",
   "execution_count": 20,
   "outputs": [
    {
     "name": "stdout",
     "output_type": "stream",
     "text": [
      "The integral from 0 to 2 is: 14.0\n"
     ]
    }
   ],
   "source": [
    "Poly = {0: 7}  # 7\n",
    "A = 0\n",
    "B = 2\n",
    "result = integral(Poly, A, B)  # Expected output: 14\n",
    "print(\"The integral from {} to {} is: {}\".format(A, B, result))\n",
    "assert abs(result - 14) < 1e-9, \"incorrect integration\""
   ],
   "metadata": {
    "collapsed": false,
    "ExecuteTime": {
     "end_time": "2023-10-25T14:20:13.620224500Z",
     "start_time": "2023-10-25T14:20:13.348082100Z"
    }
   }
  },
  {
   "cell_type": "markdown",
   "source": [
    "**Test 2: Linear Polynomial**\n",
    "A test case for a linear polynomial $$ f(x) = 4x - 1 $$"
   ],
   "metadata": {
    "collapsed": false
   }
  },
  {
   "cell_type": "code",
   "execution_count": 21,
   "outputs": [
    {
     "name": "stdout",
     "output_type": "stream",
     "text": [
      "The integral from 1 to 2 is: 5.0\n"
     ]
    }
   ],
   "source": [
    "Poly = {1: 4, 0: -1}  # 4x - 1\n",
    "A = 1\n",
    "B = 2\n",
    "result = integral(Poly, A, B)  # Expected output: 5\n",
    "print(\"The integral from {} to {} is: {}\".format(A, B, result))\n",
    "assert abs(result - 5) < 1e-9, \"incorrect integration\""
   ],
   "metadata": {
    "collapsed": false,
    "ExecuteTime": {
     "end_time": "2023-10-25T14:20:13.620224500Z",
     "start_time": "2023-10-25T14:20:13.363725600Z"
    }
   }
  },
  {
   "cell_type": "markdown",
   "source": [
    "**Test 3: Non-zero Coefficients for Even and Odd Powers**\n",
    "This test is for a polynomial like $$f(x) = 2*x^{3} - 3*x^{2} + 4x + 6$$"
   ],
   "metadata": {
    "collapsed": false
   }
  },
  {
   "cell_type": "code",
   "execution_count": 22,
   "outputs": [
    {
     "name": "stdout",
     "output_type": "stream",
     "text": [
      "The integral from 0 to 1 is: 7.5\n"
     ]
    }
   ],
   "source": [
    "Poly = {3: 2, 2: -3, 1: 4, 0: 6}  # 2x^3 - 3x^2 + 4x + 6\n",
    "A = 0\n",
    "B = 1\n",
    "result = integral(Poly, A, B)  # Expected output: 7.5\n",
    "print(\"The integral from {} to {} is: {}\".format(A, B, result))\n",
    "assert abs(result - 7.5) < 1e-9, \"incorrect integration\""
   ],
   "metadata": {
    "collapsed": false,
    "ExecuteTime": {
     "end_time": "2023-10-25T14:20:13.620224500Z",
     "start_time": "2023-10-25T14:20:13.379345600Z"
    }
   }
  },
  {
   "cell_type": "markdown",
   "source": [
    "**Test 4: Polynomial with Zero Coefficients**\n",
    "A polynomial like $$f(x) = x^4 + 0x^2 + 2$$"
   ],
   "metadata": {
    "collapsed": false
   }
  },
  {
   "cell_type": "code",
   "execution_count": 23,
   "outputs": [
    {
     "name": "stdout",
     "output_type": "stream",
     "text": [
      "The integral from 0 to 1 is: 2.2\n"
     ]
    }
   ],
   "source": [
    "Poly = {4: 1, 2: 0, 0: 2}  # x^4 + 2\n",
    "A = 0\n",
    "B = 1\n",
    "result = integral(Poly, A, B)  # Expected output: 2.2\n",
    "print(\"The integral from {} to {} is: {}\".format(A, B, result))\n",
    "assert abs(result - 2.2) < 1e-9, \"incorrect integration\""
   ],
   "metadata": {
    "collapsed": false,
    "ExecuteTime": {
     "end_time": "2023-10-25T14:20:13.667017Z",
     "start_time": "2023-10-25T14:20:13.394971500Z"
    }
   }
  },
  {
   "cell_type": "markdown",
   "source": [
    "**Test 5: Polynomials with Fractional Coefficients**\n",
    "\n",
    "To test the precision of your integration function, you could use fractional coefficients. For instance, consider\n",
    "$$\n",
    "f(x) = (3/4)x^2 + (1/2)x + (1/4)\n",
    "$$"
   ],
   "metadata": {
    "collapsed": false
   }
  },
  {
   "cell_type": "code",
   "execution_count": 24,
   "outputs": [
    {
     "name": "stdout",
     "output_type": "stream",
     "text": [
      "The integral from 0 to 1 is: 0.75\n"
     ]
    }
   ],
   "source": [
    "Poly = {2: 0.75, 1: 0.5, 0: 0.25}  # 0.75x^2 + 0.5x + 0.25\n",
    "A = 0\n",
    "B = 1\n",
    "result = integral(Poly, A, B)  # Expected output: 0.75\n",
    "print(\"The integral from {} to {} is: {}\".format(A, B, result))\n",
    "assert abs(result - 0.75) < 1e-9, \"incorrect integration\""
   ],
   "metadata": {
    "collapsed": false,
    "ExecuteTime": {
     "end_time": "2023-10-25T14:20:13.667017Z",
     "start_time": "2023-10-25T14:20:13.410597800Z"
    }
   }
  },
  {
   "cell_type": "markdown",
   "source": [
    "These tests should provide comprehensive coverage for our numerical integration function, helping ensure its accuracy and robustness."
   ],
   "metadata": {
    "collapsed": false
   }
  },
  {
   "cell_type": "markdown",
   "source": [
    "## Riemann Integral Approximation"
   ],
   "metadata": {
    "collapsed": false
   }
  },
  {
   "cell_type": "markdown",
   "source": [
    "#### Edge Case 1: Zero Polynomial\n",
    "\n",
    "$$ ∫ 0 = 0 dx $$\n",
    "x in the interval \\([0, 5]\\):\n",
    "\n",
    "$$ = 0 $$"
   ],
   "metadata": {
    "collapsed": false
   }
  },
  {
   "cell_type": "code",
   "execution_count": 25,
   "outputs": [
    {
     "name": "stdout",
     "output_type": "stream",
     "text": [
      "Numerical Result: 0.0\n"
     ]
    }
   ],
   "source": [
    "poly = [(0, 0)]\n",
    "step = 0.01\n",
    "start = 0\n",
    "stop = 5\n",
    "result = riemann_integral_approximation(poly, step, start, stop)\n",
    "assert result == 0, \"Result is not 0.\"\n",
    "print(f'Numerical Result: {result}')"
   ],
   "metadata": {
    "collapsed": false,
    "ExecuteTime": {
     "end_time": "2023-10-25T14:20:13.667017Z",
     "start_time": "2023-10-25T14:20:13.426248400Z"
    }
   }
  },
  {
   "cell_type": "markdown",
   "source": [],
   "metadata": {
    "collapsed": false
   }
  },
  {
   "cell_type": "markdown",
   "source": [
    "#### Edge Case 2: Negative Coefficients:\n",
    "Testing a polynomial with negative coefficients.\n",
    "> ∫-2x^2 - 3x - 4, x = [1,3]\n",
    "\n",
    "$$ ∫ -2x^2 - 3x - 4 $$\n",
    "$$ = -\\frac{2}{3}x^3  -  \\frac{3}{2}x^2 - 4x  dx $$\n",
    "\n",
    "x in the interval [1, 3]\\:\n",
    "\n",
    "$$\n",
    "= (-\\frac{2}{3}x^3 - \\frac{3}{2}(3)^2 - 4(3)) - (-\\frac{2}{3}(1)^3 - \\frac{3}{2}(1)^2 - 4(1))\n",
    "$$\n",
    "\n",
    "$$ = -37.33 $$\n"
   ],
   "metadata": {
    "collapsed": false
   }
  },
  {
   "cell_type": "code",
   "execution_count": 26,
   "outputs": [
    {
     "name": "stdout",
     "output_type": "stream",
     "text": [
      "Numerical Result: -37.22340000000003\n"
     ]
    }
   ],
   "source": [
    "poly = [(-2, 2), (-3, 1), (-4, 0)]\n",
    "step = 0.01\n",
    "start = 1\n",
    "stop = 3\n",
    "result = riemann_integral_approximation(poly, step, start, stop)\n",
    "print(f'Numerical Result: {result}')\n",
    "assert (result + 37.33) < 0.5, \"Result is not within 0.5 of the expected value.\""
   ],
   "metadata": {
    "collapsed": false,
    "ExecuteTime": {
     "end_time": "2023-10-25T14:20:13.667017Z",
     "start_time": "2023-10-25T14:20:13.447895500Z"
    }
   }
  },
  {
   "cell_type": "markdown",
   "source": [],
   "metadata": {
    "collapsed": false
   }
  },
  {
   "cell_type": "markdown",
   "source": [
    "#### Edge Case 3: Non-integer Coefficients and Powers:\n",
    "Testing a polynomial with non-integer coefficients and powers.\n",
    "\n",
    "$$\n",
    "∫ 1.5x^{1.5} + 2.5x^{1.5} = x^{2.5} + \\frac{5}{3}x^{1.5} dx\n",
    "$$"
   ],
   "metadata": {
    "collapsed": false
   }
  },
  {
   "cell_type": "code",
   "execution_count": 27,
   "outputs": [
    {
     "name": "stdout",
     "output_type": "stream",
     "text": [
      "Numerical Result: -12.365012499995458\n"
     ]
    }
   ],
   "source": [
    "poly = [(1.5, 1.5), (-2.5, 1.5)]\n",
    "step = 0.01\n",
    "start = 1\n",
    "stop = 4\n",
    "result = riemann_integral_approximation(poly, step, start, stop)\n",
    "print(f'Numerical Result: {result}')\n",
    "assert abs(12.4 + result) < 0.5, \"Result is not within 0.5 of the expected value.\""
   ],
   "metadata": {
    "collapsed": false,
    "ExecuteTime": {
     "end_time": "2023-10-25T14:20:13.667017Z",
     "start_time": "2023-10-25T14:20:13.463554Z"
    }
   }
  },
  {
   "cell_type": "markdown",
   "source": [
    "#### Edge Case 4: Non-integer Interval:\n",
    "\n",
    "$$ x^{-1} + x^{-2} = ln|x| - x^{-1}  dx $$\n",
    "x in the interval [1, 2]:\n",
    "\n",
    "$$ = ln|2| - 2^{-1} - ln|1| - 1^{-1}  $$\n",
    "\n",
    "$$ = ln(2) + 1 1.693 $$\n"
   ],
   "metadata": {
    "collapsed": false
   }
  },
  {
   "cell_type": "code",
   "execution_count": 28,
   "outputs": [
    {
     "name": "stdout",
     "output_type": "stream",
     "text": [
      "Numerical Result: 1.1932096826433303\n"
     ]
    }
   ],
   "source": [
    "poly = [(1, -1), (1, -2)]\n",
    "step = 0.0001\n",
    "start = 1\n",
    "stop = 2\n",
    "result = riemann_integral_approximation(poly, step, start, stop)\n",
    "print(f'Numerical Result: {result}')\n",
    "assert abs(result - 1.19315) < 0.05, \"Result is not within 0.05 of the expected value.\""
   ],
   "metadata": {
    "collapsed": false,
    "ExecuteTime": {
     "end_time": "2023-10-25T14:20:13.667017Z",
     "start_time": "2023-10-25T14:20:13.479180200Z"
    }
   }
  },
  {
   "cell_type": "markdown",
   "metadata": {},
   "source": [
    "## Reflection"
   ]
  },
  {
   "cell_type": "markdown",
   "source": [
    "I'm pleased with how my code turned out overall. I tried to structure it in a modular way, with each function focused on a specific task. The functions drop_leftmost_zeros and derive_poly work together nicely to handle removing leading zeros from polynomial derivatives. I think my use of helper functions like drop_leftmost_zeros made the main derive_poly function easier to read and understand.\n",
    "\n",
    "When writing evaluate_polynomial, I was careful to use tuple unpacking and a generator expression rather than temporary variables, which kept it clean and concise. I also tried to use appropriate data structures like lists and dicts to represent mathematical concepts in a natural way. For example, representing polynomials as lists or dicts maps well to how we think about polynomials.\n",
    "\n",
    "There are some areas I could improve on though. For integral, I probably could have structured it more similarly to evaluate_polynomial using a generator expression instead of a simpler sum. That would make it more consistent with the other functions. I also should add some type hints and input validation to make the functions easier to use correctly and safely. And I need to write more tests - that will help me catch bugs and edge cases.\n",
    "\n",
    "Overall, writing this code taught me the importance of modularity, picking the right data structures, and writing readable code. I'm glad I asked others for feedback on my code - getting suggestions for improvement from peers has really helped strengthen my coding skills. This experience has shown me how openness to critiques allows me to keep improving as a programmer. I'm excited to continue honing my skills as I take on more coding challenges!"
   ],
   "metadata": {
    "collapsed": false
   }
  },
  {
   "cell_type": "markdown",
   "source": [
    "#### Usage of peer code\n",
    "I haven't seen any code from my peers that I could use in my code at the time of this submission."
   ],
   "metadata": {
    "collapsed": false
   }
  }
 ],
 "metadata": {
  "kernelspec": {
   "display_name": "Python 3 (ipykernel)",
   "language": "python",
   "name": "python3"
  },
  "language_info": {
   "codemirror_mode": {
    "name": "ipython",
    "version": 3
   },
   "file_extension": ".py",
   "mimetype": "text/x-python",
   "name": "python",
   "nbconvert_exporter": "python",
   "pygments_lexer": "ipython3",
   "version": "3.8.8"
  }
 },
 "nbformat": 4,
 "nbformat_minor": 2
}
