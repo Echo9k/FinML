{
 "cells": [
  {
   "cell_type": "markdown",
   "source": [
    "# Question 1"
   ],
   "metadata": {
    "collapsed": false
   },
   "id": "aeba0a0b4d15c7df"
  },
  {
   "cell_type": "code",
   "execution_count": 2,
   "outputs": [
    {
     "data": {
      "text/plain": "93.0"
     },
     "execution_count": 2,
     "metadata": {},
     "output_type": "execute_result"
    }
   ],
   "source": [
    "25000*0.0006+36+42"
   ],
   "metadata": {
    "collapsed": false,
    "ExecuteTime": {
     "end_time": "2023-10-22T16:01:58.919512300Z",
     "start_time": "2023-10-22T16:01:58.899506300Z"
    }
   },
   "id": "30c334eb3a23d192"
  },
  {
   "cell_type": "markdown",
   "source": [
    "# Question 2"
   ],
   "metadata": {
    "collapsed": false
   },
   "id": "75eb4d5674291116"
  },
  {
   "cell_type": "code",
   "execution_count": 1,
   "outputs": [
    {
     "data": {
      "text/plain": "0.7"
     },
     "execution_count": 1,
     "metadata": {},
     "output_type": "execute_result"
    }
   ],
   "source": [
    "A = round(0.4*(1/6),5)\n",
    "B = round(0.4*(1/3),5)\n",
    "C = round(0.6*(1/6),5)\n",
    "D = round(0.6*(1/3),5)\n",
    "p_1or2 = A + B + C\n",
    "round(1 - p_1or2, 3)"
   ],
   "metadata": {
    "collapsed": false,
    "ExecuteTime": {
     "start_time": "2023-10-22T16:01:58.884521300Z"
    }
   },
   "id": "684f4971181e05c6"
  },
  {
   "cell_type": "markdown",
   "source": [
    "# Question 3    "
   ],
   "metadata": {
    "collapsed": false
   },
   "id": "178487344bca0a35"
  },
  {
   "cell_type": "code",
   "execution_count": 3,
   "outputs": [],
   "source": [
    " # Response is given as the prior probability of the event in the question itself"
   ],
   "metadata": {
    "collapsed": false,
    "ExecuteTime": {
     "end_time": "2023-10-22T16:01:58.988502900Z",
     "start_time": "2023-10-22T16:01:58.915504900Z"
    }
   },
   "id": "cd8f6783638f43cf"
  },
  {
   "cell_type": "markdown",
   "source": [
    "# Question 4"
   ],
   "metadata": {
    "collapsed": false
   },
   "id": "9b5571d36d726f70"
  },
  {
   "cell_type": "code",
   "execution_count": 4,
   "outputs": [
    {
     "data": {
      "text/plain": "0.01315704193402035"
     },
     "execution_count": 4,
     "metadata": {},
     "output_type": "execute_result"
    }
   ],
   "source": [
    "(0.87*0.007)/((0.87*0.007)+(0.46*0.993))"
   ],
   "metadata": {
    "collapsed": false,
    "ExecuteTime": {
     "end_time": "2023-10-22T16:01:59.029501800Z",
     "start_time": "2023-10-22T16:01:58.928534600Z"
    }
   },
   "id": "305cd2cbf805125e"
  },
  {
   "cell_type": "markdown",
   "source": [
    "# Question 5"
   ],
   "metadata": {
    "collapsed": false
   },
   "id": "63e6cffff8bb27fb"
  },
  {
   "cell_type": "code",
   "execution_count": 5,
   "id": "initial_id",
   "metadata": {
    "collapsed": true,
    "ExecuteTime": {
     "end_time": "2023-10-22T16:01:59.606797900Z",
     "start_time": "2023-10-22T16:01:58.949506800Z"
    }
   },
   "outputs": [],
   "source": [
    "import numpy as np\n",
    "import matplotlib.pyplot as plt\n",
    "\n",
    "def draw_balls(N):\n",
    "    \"\"\"Draw N balls from an urn containing 3 red and 3 blue balls.\"\"\"\n",
    "    # Bag of balls representation\n",
    "    bag = [1, 2, 3, 4, 4, 5, 6]\n",
    "\n",
    "    # Drawing N balls with replacement using vectorization\n",
    "    return np.random.choice(bag, size=N)"
   ]
  },
  {
   "cell_type": "code",
   "execution_count": 6,
   "outputs": [
    {
     "name": "stdout",
     "output_type": "stream",
     "text": [
      "Experimentally found mean: 3.28\n"
     ]
    },
    {
     "data": {
      "text/plain": "<Figure size 640x480 with 1 Axes>",
      "image/png": "[encoded data removed]"
     },
     "metadata": {},
     "output_type": "display_data"
    }
   ],
   "source": [
    "np.random.seed(2**32-1)\n",
    "\n",
    "# Perform the experiment of drawing 100 balls\n",
    "experiment_result = draw_balls(100)\n",
    "\n",
    "# Calculate the experimentally found mean\n",
    "experimental_mean = np.mean(experiment_result)\n",
    "print(f'Experimentally found mean: {experimental_mean}')\n",
    "\n",
    "# Plot the resulting distribution\n",
    "plt.hist(experiment_result, bins=[0.5, 1.5, 2.5, 3.5, 4.5, 5.5, 6.5], rwidth=0.8, align='mid')\n",
    "plt.xlabel('Number on Ball')\n",
    "plt.ylabel('Frequency')\n",
    "plt.title('Distribution of Drawn Balls')\n",
    "plt.xticks(range(1, 7))\n",
    "plt.show()"
   ],
   "metadata": {
    "collapsed": false,
    "ExecuteTime": {
     "end_time": "2023-10-22T16:01:59.821810500Z",
     "start_time": "2023-10-22T16:01:59.613797900Z"
    }
   },
   "id": "1937509a2e2afcdf"
  }
 ],
 "metadata": {
  "kernelspec": {
   "display_name": "Python 3",
   "language": "python",
   "name": "python3"
  },
  "language_info": {
   "codemirror_mode": {
    "name": "ipython",
    "version": 2
   },
   "file_extension": ".py",
   "mimetype": "text/x-python",
   "name": "python",
   "nbconvert_exporter": "python",
   "pygments_lexer": "ipython2",
   "version": "2.7.6"
  }
 },
 "nbformat": 4,
 "nbformat_minor": 5
}
