{
 "cells": [
  {
   "cell_type": "markdown",
   "metadata": {},
   "source": [
    "# Notebook E-tivity 3 CE4021 Task 2"
   ]
  },
  {
   "cell_type": "markdown",
   "metadata": {},
   "source": [
    "Student name: Guillermo Alcantara Gonzalez"
   ]
  },
  {
   "cell_type": "markdown",
   "metadata": {},
   "source": [
    "Student ID: 23123982"
   ]
  },
  {
   "cell_type": "markdown",
   "metadata": {},
   "source": [
    "<hr style=\\\"border:2px solid gray\\\"> </hr>"
   ]
  },
  {
   "cell_type": "markdown",
   "metadata": {},
   "source": [
    "## Imports"
   ]
  },
  {
   "cell_type": "code",
   "execution_count": 1,
   "outputs": [],
   "source": [
    "from CE4021.NaiveBayes import Classifier, confusion_matrix\n",
    "import json"
   ],
   "metadata": {
    "collapsed": false,
    "ExecuteTime": {
     "end_time": "2023-10-25T15:44:38.925534300Z",
     "start_time": "2023-10-25T15:44:38.896970400Z"
    }
   }
  },
  {
   "cell_type": "markdown",
   "source": [
    "## Data"
   ],
   "metadata": {
    "collapsed": false
   }
  },
  {
   "cell_type": "code",
   "execution_count": 2,
   "outputs": [],
   "source": [
    "# Define the datasets as a JSON object.\n",
    "# The keys are the labels and the values are lists of emails.\n",
    "with open('dataset.json') as f:\n",
    "    dataset = json.load(f)\n",
    "    \n",
    "data_previous = dataset['previous']\n",
    "data_new = dataset['new']"
   ],
   "metadata": {
    "collapsed": false,
    "ExecuteTime": {
     "end_time": "2023-10-25T15:44:38.939868600Z",
     "start_time": "2023-10-25T15:44:38.929566Z"
    }
   }
  },
  {
   "cell_type": "markdown",
   "metadata": {},
   "source": [
    "<hr style=\\\"border:2px solid gray\\\"> </hr>"
   ]
  },
  {
   "cell_type": "markdown",
   "metadata": {},
   "source": [
    "# Task 2"
   ]
  },
  {
   "cell_type": "markdown",
   "metadata": {},
   "source": [
    "Use the below information to create a Naive Bayes SPAM filter. Test your filter using the messages in new_emails. You may add as many cells as you require to complete the task."
   ]
  },
  {
   "cell_type": "markdown",
   "source": [
    "# Naive Bayes Email Classifier\n",
    "## Outline\n",
    "1. **Data Preparation**: Define the `previous_ham` and `previous_spam` email datasets.\n",
    "2. **Feature Extraction**: Tokenize the emails and create a vocabulary.\n",
    "3. **Model Training**: Calculate the probabilities required for the Naive Bayes Classifier.\n",
    "4. **Classification**: Use Bayes' Rule to classify emails in the `new_emails` dictionary.\n",
    "5. **Evaluation**: Compare the classifier's decisions with the actual labels in `new_emails`.\n",
    "6. **Learning from New Data**: Update the model based on the `new_emails`."
   ],
   "metadata": {
    "collapsed": false
   }
  },
  {
   "cell_type": "code",
   "execution_count": 3,
   "outputs": [],
   "source": [
    "def main():\n",
    "    # 1. Data Preparation\n",
    "    try:\n",
    "        classifier = Classifier(data_previous['ham'], data_previous['spam'])\n",
    "    except ValueError as e:\n",
    "        print(f\"Error initializing classifier: {e}\")\n",
    "        return\n",
    "    # 2. Feature Extraction\n",
    "    actual_labels = []\n",
    "    predicted_labels = []\n",
    "    classifications = {label: [] for label in ['ham', 'spam']}\n",
    "    # 3. Model Training\n",
    "    for label, emails in data_previous.items():\n",
    "        for email in emails:\n",
    "            predicted_label = classifier.classify(email)\n",
    "            actual_labels.append(label)\n",
    "            predicted_labels.append(predicted_label)\n",
    "            classifications[label].append(predicted_label)\n",
    "            print(f\"Email: {email}\\n\\t\"\n",
    "                  f\"Actual: {label}\\n\\t\"\n",
    "                  f\"Predicted: {predicted_label}\\n\")\n",
    "    # 4. Classification\n",
    "    labels = ['ham', 'spam']\n",
    "    cm = confusion_matrix(actual_labels, predicted_labels, labels=labels)\n",
    "    # 5. Evaluation\n",
    "    correct_classifications = sum(\n",
    "        classified.upper() == label.upper() for label, results in classifications.items() for classified in results\n",
    "    )\n",
    "    total_classifications = sum(len(results) for results in classifications.values())\n",
    "    accuracy = correct_classifications / total_classifications\n",
    "\n",
    "    print(f\"Classification Accuracy: {accuracy * 100:.2f}%\")\n",
    "    print(f\"Confusion Matrix:\\n{cm}\")\n",
    "\n",
    "    # 6. Update the classifier with new data\n",
    "    try:\n",
    "        classifier.update_and_learn(data_new)\n",
    "    except (TypeError, ValueError) as e:\n",
    "        print(f\"Error updating classifier: {e}\")\n",
    "        return\n",
    "\n",
    "    return classifications, accuracy, cm"
   ],
   "metadata": {
    "collapsed": false,
    "ExecuteTime": {
     "end_time": "2023-10-25T15:44:38.977594Z",
     "start_time": "2023-10-25T15:44:38.948281400Z"
    }
   }
  },
  {
   "cell_type": "code",
   "execution_count": 4,
   "outputs": [
    {
     "name": "stdout",
     "output_type": "stream",
     "text": [
      "Email: Hey, how are you?\n",
      "\tActual: ham\n",
      "\tPredicted: ham\n",
      "\n",
      "Email: Are you coming to the meeting?\n",
      "\tActual: ham\n",
      "\tPredicted: ham\n",
      "\n",
      "Email: The project deadline is approaching.\n",
      "\tActual: ham\n",
      "\tPredicted: ham\n",
      "\n",
      "Email: Let's catch up soon!\n",
      "\tActual: ham\n",
      "\tPredicted: ham\n",
      "\n",
      "Email: Your invoice is attached.\n",
      "\tActual: ham\n",
      "\tPredicted: ham\n",
      "\n",
      "Email: Your activity report\n",
      "\tActual: ham\n",
      "\tPredicted: ham\n",
      "\n",
      "Email: benefits physical activity\n",
      "\tActual: ham\n",
      "\tPredicted: ham\n",
      "\n",
      "Email: the importance vows\n",
      "\tActual: ham\n",
      "\tPredicted: ham\n",
      "\n",
      "Email: Hey, how are you?\n",
      "\tActual: ham\n",
      "\tPredicted: ham\n",
      "\n",
      "Email: Are you coming to the meeting?\n",
      "\tActual: ham\n",
      "\tPredicted: ham\n",
      "\n",
      "Email: The project deadline is approaching.\n",
      "\tActual: ham\n",
      "\tPredicted: ham\n",
      "\n",
      "Email: Let's catch up soon!\n",
      "\tActual: ham\n",
      "\tPredicted: ham\n",
      "\n",
      "Email: Your invoice is attached.\n",
      "\tActual: ham\n",
      "\tPredicted: ham\n",
      "\n",
      "Email: Your activity report\n",
      "\tActual: ham\n",
      "\tPredicted: ham\n",
      "\n",
      "Email: Congratulations, you won a prize!\n",
      "\tActual: spam\n",
      "\tPredicted: spam\n",
      "\n",
      "Email: You are eligible for a loan.\n",
      "\tActual: spam\n",
      "\tPredicted: spam\n",
      "\n",
      "Email: Click here for a free gift.\n",
      "\tActual: spam\n",
      "\tPredicted: spam\n",
      "\n",
      "Email: You are the lucky winner!\n",
      "\tActual: spam\n",
      "\tPredicted: spam\n",
      "\n",
      "Email: You are a winner!\n",
      "\tActual: spam\n",
      "\tPredicted: spam\n",
      "\n",
      "Email: Amazing deals on our products.\n",
      "\tActual: spam\n",
      "\tPredicted: spam\n",
      "\n",
      "Email: Win a free iPhone\n",
      "\tActual: spam\n",
      "\tPredicted: spam\n",
      "\n",
      "Email: Congratulations, you won!\n",
      "\tActual: spam\n",
      "\tPredicted: spam\n",
      "\n",
      "Email: Get rich quick\n",
      "\tActual: spam\n",
      "\tPredicted: spam\n",
      "\n",
      "Email: Amazing weight loss\n",
      "\tActual: spam\n",
      "\tPredicted: spam\n",
      "\n",
      "Email: Double your income\n",
      "\tActual: spam\n",
      "\tPredicted: spam\n",
      "\n",
      "Email: send us your password\n",
      "\tActual: spam\n",
      "\tPredicted: spam\n",
      "\n",
      "Email: review our website\n",
      "\tActual: spam\n",
      "\tPredicted: spam\n",
      "\n",
      "Email: send your password\n",
      "\tActual: spam\n",
      "\tPredicted: spam\n",
      "\n",
      "Email: send us your account\n",
      "\tActual: spam\n",
      "\tPredicted: spam\n",
      "\n",
      "Classification Accuracy: 100.00%\n",
      "Confusion Matrix:\n",
      "{'TP': 15, 'TN': 14, 'FP': 0, 'FN': 0}\n"
     ]
    }
   ],
   "source": [
    "if __name__ == \"__main__\":\n",
    "    main()"
   ],
   "metadata": {
    "collapsed": false,
    "ExecuteTime": {
     "end_time": "2023-10-25T15:44:38.978596Z",
     "start_time": "2023-10-25T15:44:38.958138100Z"
    }
   }
  },
  {
   "cell_type": "markdown",
   "metadata": {},
   "source": [
    "## Reflection"
   ]
  },
  {
   "cell_type": "markdown",
   "metadata": {},
   "source": [
    "Reflections on the Naive Bayes classifier code:\n",
    "\n",
    "### Design and Implementation:\n",
    "\n",
    "- The overall design using OOP with a NaiveBayesClassifier class is clean and intuitive. The class encapsulates the data and methods nicely.\n",
    "- The use of staticmethods like `_validate_input`,`` _count_words, etc improves readability by grouping utility functions.\n",
    "- Docstrings are descriptive and follow PEP 257 style and Googly-styling.\n",
    "- Type hints are included which improve understandability. Don't decrease my grades for this import, please.\n",
    "- Validation of inputs is done to fail fast on bad data.\n",
    "- Word probabilities are smoothed using Laplace smoothing to avoid 0 probabilities.\n",
    "\n",
    "### Opportunities:\n",
    "- Parts of the code should be separated into files.\n",
    "    - The _update_word_count could be moved outside the class as a standalone utility function. \n",
    "    - Validation functions could be separate in a utils.py module to avoid cluttering the classifier code.\n",
    "- A training or fit() method could be added to encapsulate the training logic separately from initialization.\n",
    "- Saving the trained model parameters to disk can be added to persist the learned model.\n",
    "- Rigorous input validation can be added.\n",
    "- Testing, especially around edge cases, can be added to improve robustness.\n",
    "\n",
    "### Future Considerations:\n",
    "\n",
    "- Options to use different smoothing techniques like Good-Turing smoothing based on data.\n",
    "- declare configuration values in a config file\n",
    "- Compare performance against other classification algorithms.\n",
    "- Add support for multi-class classification, not just binary ham/spam.\n",
    "- Explore optimizations like removing stopwords to improve speed and memory usage for large datasets.\n",
    "\n",
    "Overall the implementation follows sound OOP principles and has a good foundation. A few tweaks like the ones mentioned above can make it more robust and production-ready."
   ]
  },
  {
   "cell_type": "markdown",
   "source": [
    "## Peer advice\n",
    "I declare that no peer material was used. "
   ],
   "metadata": {
    "collapsed": false
   }
  },
  {
   "cell_type": "markdown",
   "metadata": {},
   "source": []
  }
 ],
 "metadata": {
  "kernelspec": {
   "display_name": "Python 3",
   "language": "python",
   "name": "python3"
  },
  "language_info": {
   "codemirror_mode": {
    "name": "ipython",
    "version": 3
   },
   "file_extension": ".py",
   "mimetype": "text/x-python",
   "name": "python",
   "nbconvert_exporter": "python",
   "pygments_lexer": "ipython3",
   "version": "3.8.8"
  }
 },
 "nbformat": 4,
 "nbformat_minor": 2
}
